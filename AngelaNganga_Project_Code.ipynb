{
 "cells": [
  {
   "cell_type": "code",
   "execution_count": 45,
   "id": "8a1d80e8",
   "metadata": {},
   "outputs": [],
   "source": [
    "import networkx as nx\n",
    "# construct the sample graph with the networkx library.\n",
    "# This custom DAG represents a recipe instruction workflow.\n",
    "\n",
    "graph = nx.DiGraph()\n",
    "graph.add_edges_from([\n",
    "    (\"Preheat[0]\", \"Chop[1]\"),\n",
    "    (\"Preheat[0]\", \"Whisk[2]\"),\n",
    "    (\"Chop[1]\", \"Bake[3]\"),\n",
    "    (\"Whisk[2]\", \"Bake[3]\"),\n",
    "    (\"Chop[1]\", \"Cool[4]\"),\n",
    "    (\"Bake[3]\", \"Cool[4]\"),\n",
    "    (\"Bake[3]\", \"Garnish[5]\")\n",
    "])\n"
   ]
  },
  {
   "cell_type": "code",
   "execution_count": 46,
   "id": "ec70d440",
   "metadata": {},
   "outputs": [
    {
     "data": {
      "text/plain": [
       "NodeView(('Preheat[0]', 'Chop[1]', 'Whisk[2]', 'Bake[3]', 'Cool[4]', 'Garnish[5]'))"
      ]
     },
     "execution_count": 46,
     "metadata": {},
     "output_type": "execute_result"
    }
   ],
   "source": [
    "# infer the nodes from the  collection of edges above.\n",
    "graph.nodes()   "
   ]
  },
  {
   "cell_type": "markdown",
   "id": "d7e6a6b5",
   "metadata": {},
   "source": [
    "### Check validity for Topological Sorting\n"
   ]
  },
  {
   "cell_type": "code",
   "execution_count": 47,
   "id": "8fc8b913",
   "metadata": {},
   "outputs": [
    {
     "data": {
      "text/plain": [
       "True"
      ]
     },
     "execution_count": 47,
     "metadata": {},
     "output_type": "execute_result"
    }
   ],
   "source": [
    "    \n",
    "### Check validity for Topological Sorting\n",
    "nx.is_directed(graph) # => True\n",
    "# Since it's a DAG, topological sort can be conducted"
   ]
  },
  {
   "cell_type": "code",
   "execution_count": 48,
   "id": "1a45f4ef",
   "metadata": {},
   "outputs": [
    {
     "data": {
      "text/plain": [
       "True"
      ]
     },
     "execution_count": 48,
     "metadata": {},
     "output_type": "execute_result"
    }
   ],
   "source": [
    "  # Since it's a DAG, topological sort can be conducted\n",
    "nx.is_directed_acyclic_graph(graph) # => True"
   ]
  },
  {
   "cell_type": "code",
   "execution_count": 49,
   "id": "bb879739",
   "metadata": {},
   "outputs": [
    {
     "data": {
      "text/plain": [
       "['Preheat[0]', 'Chop[1]', 'Whisk[2]', 'Bake[3]', 'Cool[4]', 'Garnish[5]']"
      ]
     },
     "execution_count": 49,
     "metadata": {},
     "output_type": "execute_result"
    }
   ],
   "source": [
    "# If it wasn's a DAG, this would throw an error\n",
    "list(nx.topological_sort(graph))"
   ]
  },
  {
   "cell_type": "code",
   "execution_count": 63,
   "id": "0e0e509c",
   "metadata": {},
   "outputs": [
    {
     "name": "stdout",
     "output_type": "stream",
     "text": [
      "DFS-based Topological Sort: [0, 2, 1, 3, 5, 4]\n",
      "Kahn’s Topological Sort: [0, 1, 2, 3, 4, 5]\n",
      "Heuristic Topological Sort: [0, 1, 2, 3, 4, 5]\n",
      "my heuristic algorithm matched the kahn algorithm in 0.00 percent of cases.\n",
      "5 nodes — DFS: 0.000000s, Kahn: 0.000000s, Heuristic: 0.000000s\n",
      "10 nodes — DFS: 0.000000s, Kahn: 0.000000s, Heuristic: 0.000000s\n",
      "14 nodes — DFS: 0.000000s, Kahn: 0.000997s, Heuristic: 0.000000s\n",
      "32 nodes — DFS: 0.000000s, Kahn: 0.000000s, Heuristic: 0.000000s\n"
     ]
    }
   ],
   "source": [
    "from collections import defaultdict, deque\n",
    "import time\n",
    "import networkx as nx\n",
    "\n",
    "import random\n",
    "\n",
    "# defaultdict provides a default value for non-existent keys \n",
    "# builds an adjacency list for the graph\n",
    "\n",
    "\n",
    "#Class to represent a graph\n",
    "class Graph:\n",
    "    def __init__(self,vertices):# my graph\n",
    "        self.graph = defaultdict(list) # store adjacency List\n",
    "        self.V = vertices #number of vertices\n",
    "\n",
    "    # In adjascency list, add DIRECTED edge from node u to node v\n",
    "    def addEdge(self,u,v):\n",
    "        self.graph[u].append(v)\n",
    "\n",
    "    # A recursive function used by topological Sort\n",
    "    def DFStopologicalSortUtil(self,v,visited,stack):\n",
    "\n",
    "        # Mark the current node as visited, eg 0 for 1st iteration so you don't revisit it.\n",
    "        visited[v] = True\n",
    "\n",
    "        # for each neighboring node i of node 0 for example, if not visited, recursively call topological sort on i\n",
    "        for i in self.graph[v]:\n",
    "            if visited[i] == False:\n",
    "                self.DFStopologicalSortUtil(i,visited,stack)\n",
    "\n",
    "        # After visiting all neighbors of v, insert v at the front of the stack.\n",
    "        # nodes with no outgoing edges go last. \n",
    "        stack.insert(0,v)\n",
    "\n",
    "      # The function to do Topological Sort. It uses the recursive DFStopologicalSortUtil()\n",
    "    \n",
    "    def dfs_topologicalSort(self):\n",
    "        # Mark all the vertices as not visited\n",
    "        visited = [False]*self.V\n",
    "        stack =[]# Will contain topologically sorted nodes\n",
    "\n",
    "        # for each node from 0 to n-1, call the DFS algorithm\n",
    "        for i in range(self.V):\n",
    "            if visited[i] == False:\n",
    "                self.DFStopologicalSortUtil(i,visited,stack)\n",
    "         # Print contents of stack\n",
    "        return stack\n",
    "\n",
    "     # Kahn’s algorithm\n",
    "    def Kahn_topological_sort(self):\n",
    "        in_degree = defaultdict(int)# Keep track of how many incoming edges each vertex has\n",
    "        # setting indegree value for each vertices\n",
    "\n",
    "        for u in self.graph:# loop through all edges in the graph\n",
    "            for v in self.graph[u]:\n",
    "                in_degree[v] += 1# Increment\n",
    "\n",
    "         # create queue\n",
    "        queue = deque()\n",
    "        \n",
    "        # keep track of all nodes with in-degree 0(no incoming edges)\n",
    "        for u in self.graph:\n",
    "            if in_degree[u] == 0:\n",
    "                queue.append(u)\n",
    "\n",
    "        result = []# to store final topological ordering\n",
    "        while queue:\n",
    "            u = queue.popleft()# Remove a node from the front of the queue\n",
    "            result.append(u)# Add it to the topological order\n",
    "            \n",
    "            \n",
    "            for v in self.graph[u]:\n",
    "                in_degree[v] -= 1# Reduce the degree by 1 since on of the dependancies has been removed\n",
    "                if in_degree[v] == 0:# Add node to queue since it has no incoming nodes\n",
    "                    queue.append(v)\n",
    "        \n",
    "        return result\n",
    "     \n",
    "    def heuristic_topo_sort(self):\n",
    "        in_deg = defaultdict(int)# number of incoming edges\n",
    "        out_deg = defaultdict(int)# number of outgoing edges\n",
    "\n",
    "        for u in range(self.V):# for each node u \n",
    "            for v in self.graph[u]:# a node with no outgoing edges will not enter this loop\n",
    "                out_deg[u] =out_deg[u]+ 1# increment because u has an outgoing edge to v\n",
    "                in_deg[v] =in_deg[v] + 1# increment because v has an incoming edge from u\n",
    "\n",
    "        scores = []\n",
    "\n",
    "        for node in range(self.V): # compute the score for each node\n",
    "            diff = out_deg[node] - in_deg[node]  \n",
    "            scores.append((node, diff)) # stored as a tuple\n",
    "\n",
    "        scores.sort(key=lambda x: -x[1])  # we sort the scores in descending order such that highest score comes first\n",
    "\n",
    "        sorted_nodes = []\n",
    "        for node, score in scores:\n",
    "            sorted_nodes.append(node)# Extract the node order from the sorted list\n",
    "\n",
    "        # This is the ordered list of nodes\n",
    "        return sorted_nodes\n",
    "\n",
    "\n",
    "def create_random_directed_graph(num_nodes, edge_probability):\n",
    "# This function creates a random directed graph.\n",
    "\n",
    "# with parameters as # of nodes, num_nodes: The number of nodes\n",
    "# and edge_probability being the probability of an edge existing between any two nodes.\n",
    "\n",
    "    while True:\n",
    "        graph_nx = nx.fast_gnp_random_graph(num_nodes, edge_probability, directed=True)\n",
    "        if nx.is_directed_acyclic_graph(graph_nx):\n",
    "            break\n",
    "\n",
    "    g = Graph(num_nodes)\n",
    "    for u, v in graph_nx.edges():\n",
    "        g.addEdge(u, v)\n",
    "    return g\n",
    "# returns a directed acyclic graph\n",
    "\n",
    "\n",
    "    \n",
    "# Function to evaluate sorting performance\n",
    "def test_performance():\n",
    "    sizes = [5, 10, 14, 32]  # Different input sizes\n",
    "    edge_probability = 0.1\n",
    "    results = []\n",
    "    \n",
    "    total_tests = 0\n",
    "    heuristic_matches = 0\n",
    "\n",
    "    for size in sizes:\n",
    "        g = create_random_directed_graph(size, edge_probability)\n",
    "\n",
    "        \n",
    "        # Run all of the 3  algorithms\n",
    "        dfs_output = g.dfs_topologicalSort()\n",
    "        kahn_output  = g.Kahn_topological_sort()\n",
    "        heuristic_output  = g.heuristic_topo_sort()\n",
    "\n",
    "        # Compare heuristic with the kahn’s output\n",
    "        if heuristic_output  == kahn_output:\n",
    "            heuristic_matches += 1\n",
    "        total_tests += 1\n",
    "        \n",
    "        \n",
    "        \n",
    "        start_dfs = time.time()\n",
    "        g.dfs_topologicalSort()\n",
    "        end_dfs = time.time()\n",
    "        #dfstime.append((end_dfs - start_dfs))\n",
    "\n",
    "        start_kahn = time.time()\n",
    "        g.Kahn_topological_sort()\n",
    "        end_kahn = time.time()\n",
    "        #kahntime.append((end_kahn - start_kahn))\n",
    "        \n",
    "        start_heuristic = time.time()\n",
    "        g.heuristic_topo_sort()\n",
    "        end_heuristic = time.time()\n",
    "\n",
    "        \n",
    "        results.append({\n",
    "            \"nodes\": size,\n",
    "            \"dfs_time\": end_dfs - start_dfs,\n",
    "            \"kahn_time\": end_kahn - start_kahn,\n",
    "            \"heuristic_time\": end_heuristic - start_heuristic\n",
    "        })\n",
    "\n",
    "    heuristic_accuracy = (heuristic_matches / total_tests) * 100\n",
    "    print(f\"my heuristic algorithm matched the kahn algorithm in {heuristic_accuracy:.2f} percent of cases.\")\n",
    "    \n",
    "    return results\n",
    "\n",
    "    \n",
    "if __name__ == '__main__':\n",
    "    # This is a manual test case\n",
    "    g = Graph(6)\n",
    "    g.addEdge(0, 1)\n",
    "    g.addEdge(0, 2)\n",
    "    g.addEdge(1, 3)\n",
    "    g.addEdge(2, 3)\n",
    "    g.addEdge(3, 4)\n",
    "    g.addEdge(3, 5)\n",
    "    g.addEdge(1, 4)\n",
    "    g.addEdge(2, 5)\n",
    "    \n",
    "\n",
    "    print(\"DFS-based Topological Sort:\", g.dfs_topologicalSort())\n",
    "    print(\"Kahn’s Topological Sort:\", g.Kahn_topological_sort())\n",
    "    print(\"Heuristic Topological Sort:\", g.heuristic_topo_sort())\n",
    "\n",
    "\n",
    "    # Performance test\n",
    "    test_results = test_performance()\n",
    "    for result in test_results:\n",
    "        print(f\"{result['nodes']} nodes — DFS: {result['dfs_time']:.7f}s, Kahn: {result['kahn_time']:.6f}s, Heuristic: {result['heuristic_time']:.7f}s\")"
   ]
  },
  {
   "cell_type": "code",
   "execution_count": null,
   "id": "6a3b9483",
   "metadata": {},
   "outputs": [],
   "source": []
  },
  {
   "cell_type": "code",
   "execution_count": null,
   "id": "5b955e0a",
   "metadata": {},
   "outputs": [],
   "source": []
  }
 ],
 "metadata": {
  "kernelspec": {
   "display_name": "Python 3 (ipykernel)",
   "language": "python",
   "name": "python3"
  },
  "language_info": {
   "codemirror_mode": {
    "name": "ipython",
    "version": 3
   },
   "file_extension": ".py",
   "mimetype": "text/x-python",
   "name": "python",
   "nbconvert_exporter": "python",
   "pygments_lexer": "ipython3",
   "version": "3.9.18"
  }
 },
 "nbformat": 4,
 "nbformat_minor": 5
}
